{
  "nbformat": 4,
  "nbformat_minor": 0,
  "metadata": {
    "colab": {
      "provenance": [],
      "authorship_tag": "ABX9TyN2Vf/Ly2VkZu6KlJn9MEp+",
      "include_colab_link": true
    },
    "kernelspec": {
      "name": "python3",
      "display_name": "Python 3"
    },
    "language_info": {
      "name": "python"
    }
  },
  "cells": [
    {
      "cell_type": "markdown",
      "metadata": {
        "id": "view-in-github",
        "colab_type": "text"
      },
      "source": [
        "<a href=\"https://colab.research.google.com/github/sandhiya176/healthcare-of-patient-data/blob/main/dataset.ipynb\" target=\"_parent\"><img src=\"https://colab.research.google.com/assets/colab-badge.svg\" alt=\"Open In Colab\"/></a>"
      ]
    },
    {
      "cell_type": "markdown",
      "source": [
        "This line imports the pandas library, which is used in Python to work with data — like tables or spreadsheets:"
      ],
      "metadata": {
        "id": "5bK_9_WkS76G"
      }
    },
    {
      "cell_type": "code",
      "source": [
        "import pandas as pd"
      ],
      "metadata": {
        "id": "KRw8f4-JTIum"
      },
      "execution_count": 1,
      "outputs": []
    },
    {
      "cell_type": "markdown",
      "source": [
        "This line creates a simple table (called a DataFrame) with columns,This is just sample data. You can change it to your own data later:"
      ],
      "metadata": {
        "id": "8WVtjUw2TQQv"
      }
    },
    {
      "cell_type": "code",
      "source": [
        "import pandas as pd\n",
        "import random\n",
        "import numpy as np\n",
        "\n",
        "# Number of records to generate\n",
        "num_records = 200\n",
        "\n",
        "# Arrays with possible values\n",
        "genders = ['Male', 'Female', 'Other']\n",
        "ever_married_status = ['Yes', 'No']\n",
        "work_types = ['Private', 'Self-employed', 'Govt job', 'children', 'Never_worked']\n",
        "residence_types = [\"Urban\", \"Rural\"]\n",
        "smoking_statuses = ['never smoked', 'formerly smoked', 'smokes', 'Unknown']\n",
        "\n",
        "# Initialize empty lists\n",
        "ids = []\n",
        "genders_list = []\n",
        "hypertension_list = []\n",
        "heart_disease_list = []\n",
        "ever_married_list = []\n",
        "work_type_list = []\n",
        "residence_type_list = []\n",
        "avg_glucose_level_list = []\n",
        "bmi_list = []\n",
        "smoking_status_list = []\n",
        "stroke_list = []\n",
        "\n",
        "# Generate synthetic data\n",
        "for i in range(num_records):\n",
        "    ids.append(10001 + i)\n",
        "    gender = random.choice(genders)\n",
        "    hypertension = random.randint(0, 1)\n",
        "    heart_disease = random.randint(0, 1)\n",
        "    ever_married = random.choice(ever_married_status)\n",
        "    work_type = random.choice(work_types)\n",
        "    residence_type = random.choice(residence_types)\n",
        "    avg_glucose_level = round(random.uniform(70.0, 250.0), 2)\n",
        "    bmi = round(random.uniform(18.5, 40.0), 1)\n",
        "    smoking_status = random.choice(smoking_statuses)\n",
        "\n",
        "    # Stroke risk calculation\n",
        "    stroke_risk = hypertension + heart_disease\n",
        "    stroke_chance = random.random()\n",
        "    if stroke_risk >= 2 and stroke_chance > 0.3:\n",
        "        stroke = 1\n",
        "    elif stroke_risk and stroke_chance > 0.7:\n",
        "        stroke = 1\n",
        "    else:\n",
        "        stroke = 0\n",
        "\n",
        "    # Append to lists\n",
        "    genders_list.append(gender)\n",
        "    hypertension_list.append(hypertension)\n",
        "    heart_disease_list.append(heart_disease)\n",
        "    ever_married_list.append(ever_married)\n",
        "    work_type_list.append(work_type)\n",
        "    residence_type_list.append(residence_type)\n",
        "    avg_glucose_level_list.append(avg_glucose_level)\n",
        "    bmi_list.append(bmi)\n",
        "    smoking_status_list.append(smoking_status)\n",
        "    stroke_list.append(stroke)\n",
        "\n",
        "# Create DataFrame\n",
        "data = {\n",
        "    'id': ids,\n",
        "    'gender': genders_list,\n",
        "    'hypertension': hypertension_list,\n",
        "    'heart_disease': heart_disease_list,\n",
        "    'ever_married': ever_married_list,\n",
        "    'work_type': work_type_list,\n",
        "    'residence_type': residence_type_list,\n",
        "    'avg_glucose_level': avg_glucose_level_list,\n",
        "    'bmi': bmi_list,\n",
        "    'smoking_status': smoking_status_list,\n",
        "    'stroke': stroke_list\n",
        "}\n",
        "\n",
        "df = pd.DataFrame(data)\n",
        "\n",
        "# Show first few rows\n",
        "print(df.head())\n",
        "\n",
        "# Save to Excel\n",
        "df.to_excel(\"dataset2.xlsx\", index=False)\n",
        "\n",
        "# For Google Colab only: download file\n",
        "try:\n",
        "    from google.colab import files\n",
        "    files.download(\"dataset2.xlsx\")\n",
        "except ImportError:\n",
        "    print(\"Not running in Google Colab, file saved locally as 'dataset2.xlsx'.\")\n"
      ],
      "metadata": {
        "colab": {
          "base_uri": "https://localhost:8080/",
          "height": 243
        },
        "id": "6qbZcnnablij",
        "outputId": "7dd6f8b1-a89c-4bad-d9b8-64c6f9de9bbf"
      },
      "execution_count": 2,
      "outputs": [
        {
          "output_type": "stream",
          "name": "stdout",
          "text": [
            "      id  gender  hypertension  heart_disease ever_married      work_type  \\\n",
            "0  10001  Female             0              0          Yes  Self-employed   \n",
            "1  10002    Male             0              1          Yes       children   \n",
            "2  10003    Male             1              1          Yes  Self-employed   \n",
            "3  10004    Male             0              0           No  Self-employed   \n",
            "4  10005  Female             0              0           No       children   \n",
            "\n",
            "  residence_type  avg_glucose_level   bmi   smoking_status  stroke  \n",
            "0          Rural              81.32  18.9     never smoked       0  \n",
            "1          Urban              96.78  34.2          Unknown       1  \n",
            "2          Rural             218.06  38.2           smokes       1  \n",
            "3          Urban              90.31  20.8     never smoked       0  \n",
            "4          Rural              81.15  30.4  formerly smoked       0  \n"
          ]
        },
        {
          "output_type": "display_data",
          "data": {
            "text/plain": [
              "<IPython.core.display.Javascript object>"
            ],
            "application/javascript": [
              "\n",
              "    async function download(id, filename, size) {\n",
              "      if (!google.colab.kernel.accessAllowed) {\n",
              "        return;\n",
              "      }\n",
              "      const div = document.createElement('div');\n",
              "      const label = document.createElement('label');\n",
              "      label.textContent = `Downloading \"${filename}\": `;\n",
              "      div.appendChild(label);\n",
              "      const progress = document.createElement('progress');\n",
              "      progress.max = size;\n",
              "      div.appendChild(progress);\n",
              "      document.body.appendChild(div);\n",
              "\n",
              "      const buffers = [];\n",
              "      let downloaded = 0;\n",
              "\n",
              "      const channel = await google.colab.kernel.comms.open(id);\n",
              "      // Send a message to notify the kernel that we're ready.\n",
              "      channel.send({})\n",
              "\n",
              "      for await (const message of channel.messages) {\n",
              "        // Send a message to notify the kernel that we're ready.\n",
              "        channel.send({})\n",
              "        if (message.buffers) {\n",
              "          for (const buffer of message.buffers) {\n",
              "            buffers.push(buffer);\n",
              "            downloaded += buffer.byteLength;\n",
              "            progress.value = downloaded;\n",
              "          }\n",
              "        }\n",
              "      }\n",
              "      const blob = new Blob(buffers, {type: 'application/binary'});\n",
              "      const a = document.createElement('a');\n",
              "      a.href = window.URL.createObjectURL(blob);\n",
              "      a.download = filename;\n",
              "      div.appendChild(a);\n",
              "      a.click();\n",
              "      div.remove();\n",
              "    }\n",
              "  "
            ]
          },
          "metadata": {}
        },
        {
          "output_type": "display_data",
          "data": {
            "text/plain": [
              "<IPython.core.display.Javascript object>"
            ],
            "application/javascript": [
              "download(\"download_8f9e20f4-c49f-4a13-af3a-e4ae3d5573f0\", \"dataset2.xlsx\", 15269)"
            ]
          },
          "metadata": {}
        }
      ]
    }
  ]
}